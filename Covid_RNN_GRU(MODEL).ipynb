{
  "nbformat": 4,
  "nbformat_minor": 0,
  "metadata": {
    "colab": {
      "provenance": []
    },
    "kernelspec": {
      "name": "python3",
      "display_name": "Python 3"
    }
  },
  "cells": [
    {
      "cell_type": "markdown",
      "metadata": {
        "id": "Fkq1KMz3gP0O"
      },
      "source": [
        "#Predicting Covid-19 Cases Using RNN GRU Model\n",
        "\n",
        "This use-case provides a demo of how RNN and GRU can be used to model time series data. In our use-case, we will use Covid-19 data to predict the number of future cases based on the available historical data.\n",
        "\n",
        "Workflow:\n",
        "\n",
        "\n",
        "1.   Understanding the problem\n",
        "2.   Collecting the data\n",
        "3.   Data preprocessing\n",
        "4.   Build Model using RNN & Grated Recurrent Unit (GRU)\n",
        "5.   Training the dataset\n",
        "6.   Predict\n"
      ]
    },
    {
      "cell_type": "markdown",
      "metadata": {
        "id": "wY2VSBddhV9V"
      },
      "source": [
        "##1. Understanding the problem\n",
        "You have been given a dataset that has data of cases related to the spread of Covid-19 virus in India. We have to model the time series data using RNN GRU sequential model."
      ]
    },
    {
      "cell_type": "markdown",
      "metadata": {
        "id": "ZH5FYBPGh1O3"
      },
      "source": [
        "###Import the necessary libraries\n",
        "\n",
        "We will use keras for this purpose. Please load the following packages before you proceed further."
      ]
    },
    {
      "cell_type": "code",
      "metadata": {
        "id": "c092IzdngTQx"
      },
      "source": [
        "import pandas as pd\n",
        "import matplotlib.pyplot as plt\n",
        "import numpy as np\n",
        "import matplotlib.dates as mdates\n",
        "import datetime as dt\n",
        "\n",
        "\n",
        "from tensorflow.keras.layers import Dense, Dropout\n",
        "from keras.layers import GRU\n",
        "from keras.models import Sequential, load_model\n",
        "from sklearn.model_selection import train_test_split\n",
        "from sklearn.preprocessing import MinMaxScaler"
      ],
      "execution_count": null,
      "outputs": []
    },
    {
      "cell_type": "markdown",
      "metadata": {
        "id": "6g9qNnBsh_1_"
      },
      "source": [
        "##2. Collecting the Data\n",
        "It has been downloaded from the site https://www.kaggle.com/imdevskp/covid19-corona-virus-india-dataset\n",
        "\n",
        "\n",
        "\n",
        "\n"
      ]
    },
    {
      "cell_type": "code",
      "metadata": {
        "id": "GWip1W4QyRIc"
      },
      "source": [
        "main_dataset1 = pd.read_csv(\"/content/complete.csv\") #Read the data"
      ],
      "execution_count": null,
      "outputs": []
    },
    {
      "cell_type": "code",
      "metadata": {
        "id": "-0TZHFpVEGI1",
        "outputId": "b9a1aa6d-0057-48e0-be01-e90c6c9d25ff",
        "colab": {
          "base_uri": "https://localhost:8080/",
          "height": 206
        }
      },
      "source": [
        "main_dataset1.head()"
      ],
      "execution_count": null,
      "outputs": [
        {
          "output_type": "execute_result",
          "data": {
            "text/plain": [
              "         Date Name of State / UT  Latitude  Longitude  Total Confirmed cases  \\\n",
              "0  2020-01-30             Kerala   10.8505    76.2711                    1.0   \n",
              "1  2020-01-31             Kerala   10.8505    76.2711                    1.0   \n",
              "2  2020-02-01             Kerala   10.8505    76.2711                    2.0   \n",
              "3  2020-02-02             Kerala   10.8505    76.2711                    3.0   \n",
              "4  2020-02-03             Kerala   10.8505    76.2711                    3.0   \n",
              "\n",
              "  Death  Cured/Discharged/Migrated  New cases  New deaths  New recovered  \n",
              "0     0                        0.0          0           0              0  \n",
              "1     0                        0.0          0           0              0  \n",
              "2     0                        0.0          1           0              0  \n",
              "3     0                        0.0          1           0              0  \n",
              "4     0                        0.0          0           0              0  "
            ],
            "text/html": [
              "\n",
              "  <div id=\"df-a9d7a3db-bd1d-4f73-9e89-6644426a92c0\" class=\"colab-df-container\">\n",
              "    <div>\n",
              "<style scoped>\n",
              "    .dataframe tbody tr th:only-of-type {\n",
              "        vertical-align: middle;\n",
              "    }\n",
              "\n",
              "    .dataframe tbody tr th {\n",
              "        vertical-align: top;\n",
              "    }\n",
              "\n",
              "    .dataframe thead th {\n",
              "        text-align: right;\n",
              "    }\n",
              "</style>\n",
              "<table border=\"1\" class=\"dataframe\">\n",
              "  <thead>\n",
              "    <tr style=\"text-align: right;\">\n",
              "      <th></th>\n",
              "      <th>Date</th>\n",
              "      <th>Name of State / UT</th>\n",
              "      <th>Latitude</th>\n",
              "      <th>Longitude</th>\n",
              "      <th>Total Confirmed cases</th>\n",
              "      <th>Death</th>\n",
              "      <th>Cured/Discharged/Migrated</th>\n",
              "      <th>New cases</th>\n",
              "      <th>New deaths</th>\n",
              "      <th>New recovered</th>\n",
              "    </tr>\n",
              "  </thead>\n",
              "  <tbody>\n",
              "    <tr>\n",
              "      <th>0</th>\n",
              "      <td>2020-01-30</td>\n",
              "      <td>Kerala</td>\n",
              "      <td>10.8505</td>\n",
              "      <td>76.2711</td>\n",
              "      <td>1.0</td>\n",
              "      <td>0</td>\n",
              "      <td>0.0</td>\n",
              "      <td>0</td>\n",
              "      <td>0</td>\n",
              "      <td>0</td>\n",
              "    </tr>\n",
              "    <tr>\n",
              "      <th>1</th>\n",
              "      <td>2020-01-31</td>\n",
              "      <td>Kerala</td>\n",
              "      <td>10.8505</td>\n",
              "      <td>76.2711</td>\n",
              "      <td>1.0</td>\n",
              "      <td>0</td>\n",
              "      <td>0.0</td>\n",
              "      <td>0</td>\n",
              "      <td>0</td>\n",
              "      <td>0</td>\n",
              "    </tr>\n",
              "    <tr>\n",
              "      <th>2</th>\n",
              "      <td>2020-02-01</td>\n",
              "      <td>Kerala</td>\n",
              "      <td>10.8505</td>\n",
              "      <td>76.2711</td>\n",
              "      <td>2.0</td>\n",
              "      <td>0</td>\n",
              "      <td>0.0</td>\n",
              "      <td>1</td>\n",
              "      <td>0</td>\n",
              "      <td>0</td>\n",
              "    </tr>\n",
              "    <tr>\n",
              "      <th>3</th>\n",
              "      <td>2020-02-02</td>\n",
              "      <td>Kerala</td>\n",
              "      <td>10.8505</td>\n",
              "      <td>76.2711</td>\n",
              "      <td>3.0</td>\n",
              "      <td>0</td>\n",
              "      <td>0.0</td>\n",
              "      <td>1</td>\n",
              "      <td>0</td>\n",
              "      <td>0</td>\n",
              "    </tr>\n",
              "    <tr>\n",
              "      <th>4</th>\n",
              "      <td>2020-02-03</td>\n",
              "      <td>Kerala</td>\n",
              "      <td>10.8505</td>\n",
              "      <td>76.2711</td>\n",
              "      <td>3.0</td>\n",
              "      <td>0</td>\n",
              "      <td>0.0</td>\n",
              "      <td>0</td>\n",
              "      <td>0</td>\n",
              "      <td>0</td>\n",
              "    </tr>\n",
              "  </tbody>\n",
              "</table>\n",
              "</div>\n",
              "    <div class=\"colab-df-buttons\">\n",
              "\n",
              "  <div class=\"colab-df-container\">\n",
              "    <button class=\"colab-df-convert\" onclick=\"convertToInteractive('df-a9d7a3db-bd1d-4f73-9e89-6644426a92c0')\"\n",
              "            title=\"Convert this dataframe to an interactive table.\"\n",
              "            style=\"display:none;\">\n",
              "\n",
              "  <svg xmlns=\"http://www.w3.org/2000/svg\" height=\"24px\" viewBox=\"0 -960 960 960\">\n",
              "    <path d=\"M120-120v-720h720v720H120Zm60-500h600v-160H180v160Zm220 220h160v-160H400v160Zm0 220h160v-160H400v160ZM180-400h160v-160H180v160Zm440 0h160v-160H620v160ZM180-180h160v-160H180v160Zm440 0h160v-160H620v160Z\"/>\n",
              "  </svg>\n",
              "    </button>\n",
              "\n",
              "  <style>\n",
              "    .colab-df-container {\n",
              "      display:flex;\n",
              "      gap: 12px;\n",
              "    }\n",
              "\n",
              "    .colab-df-convert {\n",
              "      background-color: #E8F0FE;\n",
              "      border: none;\n",
              "      border-radius: 50%;\n",
              "      cursor: pointer;\n",
              "      display: none;\n",
              "      fill: #1967D2;\n",
              "      height: 32px;\n",
              "      padding: 0 0 0 0;\n",
              "      width: 32px;\n",
              "    }\n",
              "\n",
              "    .colab-df-convert:hover {\n",
              "      background-color: #E2EBFA;\n",
              "      box-shadow: 0px 1px 2px rgba(60, 64, 67, 0.3), 0px 1px 3px 1px rgba(60, 64, 67, 0.15);\n",
              "      fill: #174EA6;\n",
              "    }\n",
              "\n",
              "    .colab-df-buttons div {\n",
              "      margin-bottom: 4px;\n",
              "    }\n",
              "\n",
              "    [theme=dark] .colab-df-convert {\n",
              "      background-color: #3B4455;\n",
              "      fill: #D2E3FC;\n",
              "    }\n",
              "\n",
              "    [theme=dark] .colab-df-convert:hover {\n",
              "      background-color: #434B5C;\n",
              "      box-shadow: 0px 1px 3px 1px rgba(0, 0, 0, 0.15);\n",
              "      filter: drop-shadow(0px 1px 2px rgba(0, 0, 0, 0.3));\n",
              "      fill: #FFFFFF;\n",
              "    }\n",
              "  </style>\n",
              "\n",
              "    <script>\n",
              "      const buttonEl =\n",
              "        document.querySelector('#df-a9d7a3db-bd1d-4f73-9e89-6644426a92c0 button.colab-df-convert');\n",
              "      buttonEl.style.display =\n",
              "        google.colab.kernel.accessAllowed ? 'block' : 'none';\n",
              "\n",
              "      async function convertToInteractive(key) {\n",
              "        const element = document.querySelector('#df-a9d7a3db-bd1d-4f73-9e89-6644426a92c0');\n",
              "        const dataTable =\n",
              "          await google.colab.kernel.invokeFunction('convertToInteractive',\n",
              "                                                    [key], {});\n",
              "        if (!dataTable) return;\n",
              "\n",
              "        const docLinkHtml = 'Like what you see? Visit the ' +\n",
              "          '<a target=\"_blank\" href=https://colab.research.google.com/notebooks/data_table.ipynb>data table notebook</a>'\n",
              "          + ' to learn more about interactive tables.';\n",
              "        element.innerHTML = '';\n",
              "        dataTable['output_type'] = 'display_data';\n",
              "        await google.colab.output.renderOutput(dataTable, element);\n",
              "        const docLink = document.createElement('div');\n",
              "        docLink.innerHTML = docLinkHtml;\n",
              "        element.appendChild(docLink);\n",
              "      }\n",
              "    </script>\n",
              "  </div>\n",
              "\n",
              "\n",
              "<div id=\"df-b4b6d24e-acfe-44de-8ef9-a6831dd979ef\">\n",
              "  <button class=\"colab-df-quickchart\" onclick=\"quickchart('df-b4b6d24e-acfe-44de-8ef9-a6831dd979ef')\"\n",
              "            title=\"Suggest charts\"\n",
              "            style=\"display:none;\">\n",
              "\n",
              "<svg xmlns=\"http://www.w3.org/2000/svg\" height=\"24px\"viewBox=\"0 0 24 24\"\n",
              "     width=\"24px\">\n",
              "    <g>\n",
              "        <path d=\"M19 3H5c-1.1 0-2 .9-2 2v14c0 1.1.9 2 2 2h14c1.1 0 2-.9 2-2V5c0-1.1-.9-2-2-2zM9 17H7v-7h2v7zm4 0h-2V7h2v10zm4 0h-2v-4h2v4z\"/>\n",
              "    </g>\n",
              "</svg>\n",
              "  </button>\n",
              "\n",
              "<style>\n",
              "  .colab-df-quickchart {\n",
              "      --bg-color: #E8F0FE;\n",
              "      --fill-color: #1967D2;\n",
              "      --hover-bg-color: #E2EBFA;\n",
              "      --hover-fill-color: #174EA6;\n",
              "      --disabled-fill-color: #AAA;\n",
              "      --disabled-bg-color: #DDD;\n",
              "  }\n",
              "\n",
              "  [theme=dark] .colab-df-quickchart {\n",
              "      --bg-color: #3B4455;\n",
              "      --fill-color: #D2E3FC;\n",
              "      --hover-bg-color: #434B5C;\n",
              "      --hover-fill-color: #FFFFFF;\n",
              "      --disabled-bg-color: #3B4455;\n",
              "      --disabled-fill-color: #666;\n",
              "  }\n",
              "\n",
              "  .colab-df-quickchart {\n",
              "    background-color: var(--bg-color);\n",
              "    border: none;\n",
              "    border-radius: 50%;\n",
              "    cursor: pointer;\n",
              "    display: none;\n",
              "    fill: var(--fill-color);\n",
              "    height: 32px;\n",
              "    padding: 0;\n",
              "    width: 32px;\n",
              "  }\n",
              "\n",
              "  .colab-df-quickchart:hover {\n",
              "    background-color: var(--hover-bg-color);\n",
              "    box-shadow: 0 1px 2px rgba(60, 64, 67, 0.3), 0 1px 3px 1px rgba(60, 64, 67, 0.15);\n",
              "    fill: var(--button-hover-fill-color);\n",
              "  }\n",
              "\n",
              "  .colab-df-quickchart-complete:disabled,\n",
              "  .colab-df-quickchart-complete:disabled:hover {\n",
              "    background-color: var(--disabled-bg-color);\n",
              "    fill: var(--disabled-fill-color);\n",
              "    box-shadow: none;\n",
              "  }\n",
              "\n",
              "  .colab-df-spinner {\n",
              "    border: 2px solid var(--fill-color);\n",
              "    border-color: transparent;\n",
              "    border-bottom-color: var(--fill-color);\n",
              "    animation:\n",
              "      spin 1s steps(1) infinite;\n",
              "  }\n",
              "\n",
              "  @keyframes spin {\n",
              "    0% {\n",
              "      border-color: transparent;\n",
              "      border-bottom-color: var(--fill-color);\n",
              "      border-left-color: var(--fill-color);\n",
              "    }\n",
              "    20% {\n",
              "      border-color: transparent;\n",
              "      border-left-color: var(--fill-color);\n",
              "      border-top-color: var(--fill-color);\n",
              "    }\n",
              "    30% {\n",
              "      border-color: transparent;\n",
              "      border-left-color: var(--fill-color);\n",
              "      border-top-color: var(--fill-color);\n",
              "      border-right-color: var(--fill-color);\n",
              "    }\n",
              "    40% {\n",
              "      border-color: transparent;\n",
              "      border-right-color: var(--fill-color);\n",
              "      border-top-color: var(--fill-color);\n",
              "    }\n",
              "    60% {\n",
              "      border-color: transparent;\n",
              "      border-right-color: var(--fill-color);\n",
              "    }\n",
              "    80% {\n",
              "      border-color: transparent;\n",
              "      border-right-color: var(--fill-color);\n",
              "      border-bottom-color: var(--fill-color);\n",
              "    }\n",
              "    90% {\n",
              "      border-color: transparent;\n",
              "      border-bottom-color: var(--fill-color);\n",
              "    }\n",
              "  }\n",
              "</style>\n",
              "\n",
              "  <script>\n",
              "    async function quickchart(key) {\n",
              "      const quickchartButtonEl =\n",
              "        document.querySelector('#' + key + ' button');\n",
              "      quickchartButtonEl.disabled = true;  // To prevent multiple clicks.\n",
              "      quickchartButtonEl.classList.add('colab-df-spinner');\n",
              "      try {\n",
              "        const charts = await google.colab.kernel.invokeFunction(\n",
              "            'suggestCharts', [key], {});\n",
              "      } catch (error) {\n",
              "        console.error('Error during call to suggestCharts:', error);\n",
              "      }\n",
              "      quickchartButtonEl.classList.remove('colab-df-spinner');\n",
              "      quickchartButtonEl.classList.add('colab-df-quickchart-complete');\n",
              "    }\n",
              "    (() => {\n",
              "      let quickchartButtonEl =\n",
              "        document.querySelector('#df-b4b6d24e-acfe-44de-8ef9-a6831dd979ef button');\n",
              "      quickchartButtonEl.style.display =\n",
              "        google.colab.kernel.accessAllowed ? 'block' : 'none';\n",
              "    })();\n",
              "  </script>\n",
              "</div>\n",
              "\n",
              "    </div>\n",
              "  </div>\n"
            ],
            "application/vnd.google.colaboratory.intrinsic+json": {
              "type": "dataframe",
              "variable_name": "main_dataset1",
              "summary": "{\n  \"name\": \"main_dataset1\",\n  \"rows\": 4692,\n  \"fields\": [\n    {\n      \"column\": \"Date\",\n      \"properties\": {\n        \"dtype\": \"object\",\n        \"num_unique_values\": 186,\n        \"samples\": [\n          \"2020-05-22\",\n          \"2020-07-16\",\n          \"2020-07-21\"\n        ],\n        \"semantic_type\": \"\",\n        \"description\": \"\"\n      }\n    },\n    {\n      \"column\": \"Name of State / UT\",\n      \"properties\": {\n        \"dtype\": \"category\",\n        \"num_unique_values\": 40,\n        \"samples\": [\n          \"Gujarat\",\n          \"West Bengal\",\n          \"Puducherry\"\n        ],\n        \"semantic_type\": \"\",\n        \"description\": \"\"\n      }\n    },\n    {\n      \"column\": \"Latitude\",\n      \"properties\": {\n        \"dtype\": \"number\",\n        \"std\": 6.635913310685936,\n        \"min\": 0.0,\n        \"max\": 34.2996,\n        \"num_unique_values\": 36,\n        \"samples\": [\n          0.0,\n          30.0668,\n          15.2993\n        ],\n        \"semantic_type\": \"\",\n        \"description\": \"\"\n      }\n    },\n    {\n      \"column\": \"Longitude\",\n      \"properties\": {\n        \"dtype\": \"number\",\n        \"std\": 6.959474659846798,\n        \"min\": 0.0,\n        \"max\": 94.7278,\n        \"num_unique_values\": 32,\n        \"samples\": [\n          88.5122,\n          81.8661,\n          85.2799\n        ],\n        \"semantic_type\": \"\",\n        \"description\": \"\"\n      }\n    },\n    {\n      \"column\": \"Total Confirmed cases\",\n      \"properties\": {\n        \"dtype\": \"number\",\n        \"std\": 37208.60084622722,\n        \"min\": 1.0,\n        \"max\": 468265.0,\n        \"num_unique_values\": 2570,\n        \"samples\": [\n          860.0,\n          6485.0,\n          5579.0\n        ],\n        \"semantic_type\": \"\",\n        \"description\": \"\"\n      }\n    },\n    {\n      \"column\": \"Death\",\n      \"properties\": {\n        \"dtype\": \"category\",\n        \"num_unique_values\": 839,\n        \"samples\": [\n          \"208\",\n          \"1817\",\n          \"151\"\n        ],\n        \"semantic_type\": \"\",\n        \"description\": \"\"\n      }\n    },\n    {\n      \"column\": \"Cured/Discharged/Migrated\",\n      \"properties\": {\n        \"dtype\": \"number\",\n        \"std\": 23390.671258295388,\n        \"min\": 0.0,\n        \"max\": 305521.0,\n        \"num_unique_values\": 2143,\n        \"samples\": [\n          2780.0,\n          263.0,\n          5003.0\n        ],\n        \"semantic_type\": \"\",\n        \"description\": \"\"\n      }\n    },\n    {\n      \"column\": \"New cases\",\n      \"properties\": {\n        \"dtype\": \"number\",\n        \"std\": 1259,\n        \"min\": 0,\n        \"max\": 18366,\n        \"num_unique_values\": 1058,\n        \"samples\": [\n          3493,\n          2345,\n          264\n        ],\n        \"semantic_type\": \"\",\n        \"description\": \"\"\n      }\n    },\n    {\n      \"column\": \"New deaths\",\n      \"properties\": {\n        \"dtype\": \"number\",\n        \"std\": 0,\n        \"min\": 0,\n        \"max\": 0,\n        \"num_unique_values\": 1,\n        \"samples\": [\n          0\n        ],\n        \"semantic_type\": \"\",\n        \"description\": \"\"\n      }\n    },\n    {\n      \"column\": \"New recovered\",\n      \"properties\": {\n        \"dtype\": \"number\",\n        \"std\": 947,\n        \"min\": -1,\n        \"max\": 13401,\n        \"num_unique_values\": 901,\n        \"samples\": [\n          60\n        ],\n        \"semantic_type\": \"\",\n        \"description\": \"\"\n      }\n    }\n  ]\n}"
            }
          },
          "metadata": {},
          "execution_count": 43
        }
      ]
    },
    {
      "cell_type": "code",
      "source": [
        "# Extracting date and total confirmed cases columns\n",
        "date_column = 'Date'  # Assuming 'Date' is the column name for date\n",
        "confirmed_cases_column = 'Total Confirmed cases'  # Assuming 'Total Confirmed cases' is the column name for confirmed cases\n",
        "\n",
        "# Selecting only the columns of interest\n",
        "main_dataset = main_dataset1[[date_column, confirmed_cases_column]]\n",
        "\n",
        "# Displaying the selected data\n",
        "print(main_dataset)"
      ],
      "metadata": {
        "colab": {
          "base_uri": "https://localhost:8080/"
        },
        "id": "3YphKQ0hk6e5",
        "outputId": "ae17e204-d41d-4998-8f3f-20fbc7c3a068"
      },
      "execution_count": null,
      "outputs": [
        {
          "output_type": "stream",
          "name": "stdout",
          "text": [
            "            Date  Total Confirmed cases\n",
            "0     2020-01-30                    1.0\n",
            "1     2020-01-31                    1.0\n",
            "2     2020-02-01                    2.0\n",
            "3     2020-02-02                    3.0\n",
            "4     2020-02-03                    3.0\n",
            "...          ...                    ...\n",
            "4687  2020-08-06                73050.0\n",
            "4688  2020-08-06                 5725.0\n",
            "4689  2020-08-06               104388.0\n",
            "4690  2020-08-06                 8254.0\n",
            "4691  2020-08-06                83800.0\n",
            "\n",
            "[4692 rows x 2 columns]\n"
          ]
        }
      ]
    },
    {
      "cell_type": "code",
      "source": [
        "main_dataset['Total Confirmed cases'] = main_dataset['Total Confirmed cases'].astype(int)"
      ],
      "metadata": {
        "colab": {
          "base_uri": "https://localhost:8080/"
        },
        "id": "zcQ6GZ2sloAA",
        "outputId": "642a5f60-03f1-422f-8d65-d3e8a33be5ee"
      },
      "execution_count": null,
      "outputs": [
        {
          "output_type": "stream",
          "name": "stderr",
          "text": [
            "<ipython-input-45-799d83e423cf>:1: SettingWithCopyWarning: \n",
            "A value is trying to be set on a copy of a slice from a DataFrame.\n",
            "Try using .loc[row_indexer,col_indexer] = value instead\n",
            "\n",
            "See the caveats in the documentation: https://pandas.pydata.org/pandas-docs/stable/user_guide/indexing.html#returning-a-view-versus-a-copy\n",
            "  main_dataset['Total Confirmed cases'] = main_dataset['Total Confirmed cases'].astype(int)\n"
          ]
        }
      ]
    },
    {
      "cell_type": "code",
      "source": [
        "main_dataset"
      ],
      "metadata": {
        "colab": {
          "base_uri": "https://localhost:8080/",
          "height": 424
        },
        "id": "f0JdFzJGlu0W",
        "outputId": "8a10f5c4-d499-47df-8476-d5e25243d48c"
      },
      "execution_count": null,
      "outputs": [
        {
          "output_type": "execute_result",
          "data": {
            "text/plain": [
              "            Date  Total Confirmed cases\n",
              "0     2020-01-30                      1\n",
              "1     2020-01-31                      1\n",
              "2     2020-02-01                      2\n",
              "3     2020-02-02                      3\n",
              "4     2020-02-03                      3\n",
              "...          ...                    ...\n",
              "4687  2020-08-06                  73050\n",
              "4688  2020-08-06                   5725\n",
              "4689  2020-08-06                 104388\n",
              "4690  2020-08-06                   8254\n",
              "4691  2020-08-06                  83800\n",
              "\n",
              "[4692 rows x 2 columns]"
            ],
            "text/html": [
              "\n",
              "  <div id=\"df-f03018f7-a552-430c-ad24-1af237a4d4dd\" class=\"colab-df-container\">\n",
              "    <div>\n",
              "<style scoped>\n",
              "    .dataframe tbody tr th:only-of-type {\n",
              "        vertical-align: middle;\n",
              "    }\n",
              "\n",
              "    .dataframe tbody tr th {\n",
              "        vertical-align: top;\n",
              "    }\n",
              "\n",
              "    .dataframe thead th {\n",
              "        text-align: right;\n",
              "    }\n",
              "</style>\n",
              "<table border=\"1\" class=\"dataframe\">\n",
              "  <thead>\n",
              "    <tr style=\"text-align: right;\">\n",
              "      <th></th>\n",
              "      <th>Date</th>\n",
              "      <th>Total Confirmed cases</th>\n",
              "    </tr>\n",
              "  </thead>\n",
              "  <tbody>\n",
              "    <tr>\n",
              "      <th>0</th>\n",
              "      <td>2020-01-30</td>\n",
              "      <td>1</td>\n",
              "    </tr>\n",
              "    <tr>\n",
              "      <th>1</th>\n",
              "      <td>2020-01-31</td>\n",
              "      <td>1</td>\n",
              "    </tr>\n",
              "    <tr>\n",
              "      <th>2</th>\n",
              "      <td>2020-02-01</td>\n",
              "      <td>2</td>\n",
              "    </tr>\n",
              "    <tr>\n",
              "      <th>3</th>\n",
              "      <td>2020-02-02</td>\n",
              "      <td>3</td>\n",
              "    </tr>\n",
              "    <tr>\n",
              "      <th>4</th>\n",
              "      <td>2020-02-03</td>\n",
              "      <td>3</td>\n",
              "    </tr>\n",
              "    <tr>\n",
              "      <th>...</th>\n",
              "      <td>...</td>\n",
              "      <td>...</td>\n",
              "    </tr>\n",
              "    <tr>\n",
              "      <th>4687</th>\n",
              "      <td>2020-08-06</td>\n",
              "      <td>73050</td>\n",
              "    </tr>\n",
              "    <tr>\n",
              "      <th>4688</th>\n",
              "      <td>2020-08-06</td>\n",
              "      <td>5725</td>\n",
              "    </tr>\n",
              "    <tr>\n",
              "      <th>4689</th>\n",
              "      <td>2020-08-06</td>\n",
              "      <td>104388</td>\n",
              "    </tr>\n",
              "    <tr>\n",
              "      <th>4690</th>\n",
              "      <td>2020-08-06</td>\n",
              "      <td>8254</td>\n",
              "    </tr>\n",
              "    <tr>\n",
              "      <th>4691</th>\n",
              "      <td>2020-08-06</td>\n",
              "      <td>83800</td>\n",
              "    </tr>\n",
              "  </tbody>\n",
              "</table>\n",
              "<p>4692 rows × 2 columns</p>\n",
              "</div>\n",
              "    <div class=\"colab-df-buttons\">\n",
              "\n",
              "  <div class=\"colab-df-container\">\n",
              "    <button class=\"colab-df-convert\" onclick=\"convertToInteractive('df-f03018f7-a552-430c-ad24-1af237a4d4dd')\"\n",
              "            title=\"Convert this dataframe to an interactive table.\"\n",
              "            style=\"display:none;\">\n",
              "\n",
              "  <svg xmlns=\"http://www.w3.org/2000/svg\" height=\"24px\" viewBox=\"0 -960 960 960\">\n",
              "    <path d=\"M120-120v-720h720v720H120Zm60-500h600v-160H180v160Zm220 220h160v-160H400v160Zm0 220h160v-160H400v160ZM180-400h160v-160H180v160Zm440 0h160v-160H620v160ZM180-180h160v-160H180v160Zm440 0h160v-160H620v160Z\"/>\n",
              "  </svg>\n",
              "    </button>\n",
              "\n",
              "  <style>\n",
              "    .colab-df-container {\n",
              "      display:flex;\n",
              "      gap: 12px;\n",
              "    }\n",
              "\n",
              "    .colab-df-convert {\n",
              "      background-color: #E8F0FE;\n",
              "      border: none;\n",
              "      border-radius: 50%;\n",
              "      cursor: pointer;\n",
              "      display: none;\n",
              "      fill: #1967D2;\n",
              "      height: 32px;\n",
              "      padding: 0 0 0 0;\n",
              "      width: 32px;\n",
              "    }\n",
              "\n",
              "    .colab-df-convert:hover {\n",
              "      background-color: #E2EBFA;\n",
              "      box-shadow: 0px 1px 2px rgba(60, 64, 67, 0.3), 0px 1px 3px 1px rgba(60, 64, 67, 0.15);\n",
              "      fill: #174EA6;\n",
              "    }\n",
              "\n",
              "    .colab-df-buttons div {\n",
              "      margin-bottom: 4px;\n",
              "    }\n",
              "\n",
              "    [theme=dark] .colab-df-convert {\n",
              "      background-color: #3B4455;\n",
              "      fill: #D2E3FC;\n",
              "    }\n",
              "\n",
              "    [theme=dark] .colab-df-convert:hover {\n",
              "      background-color: #434B5C;\n",
              "      box-shadow: 0px 1px 3px 1px rgba(0, 0, 0, 0.15);\n",
              "      filter: drop-shadow(0px 1px 2px rgba(0, 0, 0, 0.3));\n",
              "      fill: #FFFFFF;\n",
              "    }\n",
              "  </style>\n",
              "\n",
              "    <script>\n",
              "      const buttonEl =\n",
              "        document.querySelector('#df-f03018f7-a552-430c-ad24-1af237a4d4dd button.colab-df-convert');\n",
              "      buttonEl.style.display =\n",
              "        google.colab.kernel.accessAllowed ? 'block' : 'none';\n",
              "\n",
              "      async function convertToInteractive(key) {\n",
              "        const element = document.querySelector('#df-f03018f7-a552-430c-ad24-1af237a4d4dd');\n",
              "        const dataTable =\n",
              "          await google.colab.kernel.invokeFunction('convertToInteractive',\n",
              "                                                    [key], {});\n",
              "        if (!dataTable) return;\n",
              "\n",
              "        const docLinkHtml = 'Like what you see? Visit the ' +\n",
              "          '<a target=\"_blank\" href=https://colab.research.google.com/notebooks/data_table.ipynb>data table notebook</a>'\n",
              "          + ' to learn more about interactive tables.';\n",
              "        element.innerHTML = '';\n",
              "        dataTable['output_type'] = 'display_data';\n",
              "        await google.colab.output.renderOutput(dataTable, element);\n",
              "        const docLink = document.createElement('div');\n",
              "        docLink.innerHTML = docLinkHtml;\n",
              "        element.appendChild(docLink);\n",
              "      }\n",
              "    </script>\n",
              "  </div>\n",
              "\n",
              "\n",
              "<div id=\"df-31a6d6b9-5111-4b1a-bcd1-09ed0b07b7c1\">\n",
              "  <button class=\"colab-df-quickchart\" onclick=\"quickchart('df-31a6d6b9-5111-4b1a-bcd1-09ed0b07b7c1')\"\n",
              "            title=\"Suggest charts\"\n",
              "            style=\"display:none;\">\n",
              "\n",
              "<svg xmlns=\"http://www.w3.org/2000/svg\" height=\"24px\"viewBox=\"0 0 24 24\"\n",
              "     width=\"24px\">\n",
              "    <g>\n",
              "        <path d=\"M19 3H5c-1.1 0-2 .9-2 2v14c0 1.1.9 2 2 2h14c1.1 0 2-.9 2-2V5c0-1.1-.9-2-2-2zM9 17H7v-7h2v7zm4 0h-2V7h2v10zm4 0h-2v-4h2v4z\"/>\n",
              "    </g>\n",
              "</svg>\n",
              "  </button>\n",
              "\n",
              "<style>\n",
              "  .colab-df-quickchart {\n",
              "      --bg-color: #E8F0FE;\n",
              "      --fill-color: #1967D2;\n",
              "      --hover-bg-color: #E2EBFA;\n",
              "      --hover-fill-color: #174EA6;\n",
              "      --disabled-fill-color: #AAA;\n",
              "      --disabled-bg-color: #DDD;\n",
              "  }\n",
              "\n",
              "  [theme=dark] .colab-df-quickchart {\n",
              "      --bg-color: #3B4455;\n",
              "      --fill-color: #D2E3FC;\n",
              "      --hover-bg-color: #434B5C;\n",
              "      --hover-fill-color: #FFFFFF;\n",
              "      --disabled-bg-color: #3B4455;\n",
              "      --disabled-fill-color: #666;\n",
              "  }\n",
              "\n",
              "  .colab-df-quickchart {\n",
              "    background-color: var(--bg-color);\n",
              "    border: none;\n",
              "    border-radius: 50%;\n",
              "    cursor: pointer;\n",
              "    display: none;\n",
              "    fill: var(--fill-color);\n",
              "    height: 32px;\n",
              "    padding: 0;\n",
              "    width: 32px;\n",
              "  }\n",
              "\n",
              "  .colab-df-quickchart:hover {\n",
              "    background-color: var(--hover-bg-color);\n",
              "    box-shadow: 0 1px 2px rgba(60, 64, 67, 0.3), 0 1px 3px 1px rgba(60, 64, 67, 0.15);\n",
              "    fill: var(--button-hover-fill-color);\n",
              "  }\n",
              "\n",
              "  .colab-df-quickchart-complete:disabled,\n",
              "  .colab-df-quickchart-complete:disabled:hover {\n",
              "    background-color: var(--disabled-bg-color);\n",
              "    fill: var(--disabled-fill-color);\n",
              "    box-shadow: none;\n",
              "  }\n",
              "\n",
              "  .colab-df-spinner {\n",
              "    border: 2px solid var(--fill-color);\n",
              "    border-color: transparent;\n",
              "    border-bottom-color: var(--fill-color);\n",
              "    animation:\n",
              "      spin 1s steps(1) infinite;\n",
              "  }\n",
              "\n",
              "  @keyframes spin {\n",
              "    0% {\n",
              "      border-color: transparent;\n",
              "      border-bottom-color: var(--fill-color);\n",
              "      border-left-color: var(--fill-color);\n",
              "    }\n",
              "    20% {\n",
              "      border-color: transparent;\n",
              "      border-left-color: var(--fill-color);\n",
              "      border-top-color: var(--fill-color);\n",
              "    }\n",
              "    30% {\n",
              "      border-color: transparent;\n",
              "      border-left-color: var(--fill-color);\n",
              "      border-top-color: var(--fill-color);\n",
              "      border-right-color: var(--fill-color);\n",
              "    }\n",
              "    40% {\n",
              "      border-color: transparent;\n",
              "      border-right-color: var(--fill-color);\n",
              "      border-top-color: var(--fill-color);\n",
              "    }\n",
              "    60% {\n",
              "      border-color: transparent;\n",
              "      border-right-color: var(--fill-color);\n",
              "    }\n",
              "    80% {\n",
              "      border-color: transparent;\n",
              "      border-right-color: var(--fill-color);\n",
              "      border-bottom-color: var(--fill-color);\n",
              "    }\n",
              "    90% {\n",
              "      border-color: transparent;\n",
              "      border-bottom-color: var(--fill-color);\n",
              "    }\n",
              "  }\n",
              "</style>\n",
              "\n",
              "  <script>\n",
              "    async function quickchart(key) {\n",
              "      const quickchartButtonEl =\n",
              "        document.querySelector('#' + key + ' button');\n",
              "      quickchartButtonEl.disabled = true;  // To prevent multiple clicks.\n",
              "      quickchartButtonEl.classList.add('colab-df-spinner');\n",
              "      try {\n",
              "        const charts = await google.colab.kernel.invokeFunction(\n",
              "            'suggestCharts', [key], {});\n",
              "      } catch (error) {\n",
              "        console.error('Error during call to suggestCharts:', error);\n",
              "      }\n",
              "      quickchartButtonEl.classList.remove('colab-df-spinner');\n",
              "      quickchartButtonEl.classList.add('colab-df-quickchart-complete');\n",
              "    }\n",
              "    (() => {\n",
              "      let quickchartButtonEl =\n",
              "        document.querySelector('#df-31a6d6b9-5111-4b1a-bcd1-09ed0b07b7c1 button');\n",
              "      quickchartButtonEl.style.display =\n",
              "        google.colab.kernel.accessAllowed ? 'block' : 'none';\n",
              "    })();\n",
              "  </script>\n",
              "</div>\n",
              "\n",
              "  <div id=\"id_6f73080c-9a37-40d8-ab25-369113eb0a86\">\n",
              "    <style>\n",
              "      .colab-df-generate {\n",
              "        background-color: #E8F0FE;\n",
              "        border: none;\n",
              "        border-radius: 50%;\n",
              "        cursor: pointer;\n",
              "        display: none;\n",
              "        fill: #1967D2;\n",
              "        height: 32px;\n",
              "        padding: 0 0 0 0;\n",
              "        width: 32px;\n",
              "      }\n",
              "\n",
              "      .colab-df-generate:hover {\n",
              "        background-color: #E2EBFA;\n",
              "        box-shadow: 0px 1px 2px rgba(60, 64, 67, 0.3), 0px 1px 3px 1px rgba(60, 64, 67, 0.15);\n",
              "        fill: #174EA6;\n",
              "      }\n",
              "\n",
              "      [theme=dark] .colab-df-generate {\n",
              "        background-color: #3B4455;\n",
              "        fill: #D2E3FC;\n",
              "      }\n",
              "\n",
              "      [theme=dark] .colab-df-generate:hover {\n",
              "        background-color: #434B5C;\n",
              "        box-shadow: 0px 1px 3px 1px rgba(0, 0, 0, 0.15);\n",
              "        filter: drop-shadow(0px 1px 2px rgba(0, 0, 0, 0.3));\n",
              "        fill: #FFFFFF;\n",
              "      }\n",
              "    </style>\n",
              "    <button class=\"colab-df-generate\" onclick=\"generateWithVariable('main_dataset')\"\n",
              "            title=\"Generate code using this dataframe.\"\n",
              "            style=\"display:none;\">\n",
              "\n",
              "  <svg xmlns=\"http://www.w3.org/2000/svg\" height=\"24px\"viewBox=\"0 0 24 24\"\n",
              "       width=\"24px\">\n",
              "    <path d=\"M7,19H8.4L18.45,9,17,7.55,7,17.6ZM5,21V16.75L18.45,3.32a2,2,0,0,1,2.83,0l1.4,1.43a1.91,1.91,0,0,1,.58,1.4,1.91,1.91,0,0,1-.58,1.4L9.25,21ZM18.45,9,17,7.55Zm-12,3A5.31,5.31,0,0,0,4.9,8.1,5.31,5.31,0,0,0,1,6.5,5.31,5.31,0,0,0,4.9,4.9,5.31,5.31,0,0,0,6.5,1,5.31,5.31,0,0,0,8.1,4.9,5.31,5.31,0,0,0,12,6.5,5.46,5.46,0,0,0,6.5,12Z\"/>\n",
              "  </svg>\n",
              "    </button>\n",
              "    <script>\n",
              "      (() => {\n",
              "      const buttonEl =\n",
              "        document.querySelector('#id_6f73080c-9a37-40d8-ab25-369113eb0a86 button.colab-df-generate');\n",
              "      buttonEl.style.display =\n",
              "        google.colab.kernel.accessAllowed ? 'block' : 'none';\n",
              "\n",
              "      buttonEl.onclick = () => {\n",
              "        google.colab.notebook.generateWithVariable('main_dataset');\n",
              "      }\n",
              "      })();\n",
              "    </script>\n",
              "  </div>\n",
              "\n",
              "    </div>\n",
              "  </div>\n"
            ],
            "application/vnd.google.colaboratory.intrinsic+json": {
              "type": "dataframe",
              "variable_name": "main_dataset",
              "summary": "{\n  \"name\": \"main_dataset\",\n  \"rows\": 4692,\n  \"fields\": [\n    {\n      \"column\": \"Date\",\n      \"properties\": {\n        \"dtype\": \"object\",\n        \"num_unique_values\": 186,\n        \"samples\": [\n          \"2020-05-22\",\n          \"2020-07-16\",\n          \"2020-07-21\"\n        ],\n        \"semantic_type\": \"\",\n        \"description\": \"\"\n      }\n    },\n    {\n      \"column\": \"Total Confirmed cases\",\n      \"properties\": {\n        \"dtype\": \"number\",\n        \"std\": 37208,\n        \"min\": 1,\n        \"max\": 468265,\n        \"num_unique_values\": 2570,\n        \"samples\": [\n          860,\n          6485,\n          5579\n        ],\n        \"semantic_type\": \"\",\n        \"description\": \"\"\n      }\n    }\n  ]\n}"
            }
          },
          "metadata": {},
          "execution_count": 46
        }
      ]
    },
    {
      "cell_type": "markdown",
      "metadata": {
        "id": "TdM6CsxNuVgh"
      },
      "source": [
        "###Trend"
      ]
    },
    {
      "cell_type": "code",
      "source": [
        "main_dataset = main_dataset.rename(columns={'Total Confirmed cases': 'Cases'})"
      ],
      "metadata": {
        "id": "HMrAgoU6mA81"
      },
      "execution_count": null,
      "outputs": []
    },
    {
      "cell_type": "code",
      "metadata": {
        "id": "DW9BETi_uEBF",
        "outputId": "b384148e-3f57-4c13-9b7a-20fcf9c76407",
        "colab": {
          "base_uri": "https://localhost:8080/",
          "height": 430
        }
      },
      "source": [
        "plt.plot(main_dataset.Date,main_dataset.Cases)\n",
        "plt.show()"
      ],
      "execution_count": null,
      "outputs": [
        {
          "output_type": "display_data",
          "data": {
            "text/plain": [
              "<Figure size 640x480 with 1 Axes>"
            ],
            "image/png": "[encoded data removed]"
          },
          "metadata": {}
        }
      ]
    },
    {
      "cell_type": "markdown",
      "metadata": {
        "id": "7qknFf0z0HaI"
      },
      "source": [
        "##3. Data Preprocessing\n",
        "\n",
        "We use following steps to preprocess the available dataset.\n",
        "\n",
        "\n",
        "\n",
        "1.   Create new features from the available variables\n",
        "2.   Create target and predictor datasets\n",
        "3.   Scale the values in the datasets\n",
        "4.   Get the datasets into desired format and shape.\n",
        "5.   Split the dataset into train & test with appropriate ratio.\n",
        "\n"
      ]
    },
    {
      "cell_type": "code",
      "metadata": {
        "id": "gMwmojSe5i-W"
      },
      "source": [
        "dataset = main_dataset #Create another dataset same as the main dataset. Just to avoid replacing the main one.\n",
        "dataset = dataset.set_index('Date') #Set the index of the dataset as the date\n",
        "dataset = dataset['Cases'] #We will be left with only one column Cases for our dataset"
      ],
      "execution_count": null,
      "outputs": []
    },
    {
      "cell_type": "markdown",
      "metadata": {
        "id": "uFZsAHbykFc0"
      },
      "source": [
        "Create a new variable called Moving Average. Moving Average is a calculation of averages of subsequent datapoints. Example:\n",
        "\n",
        "\n",
        "\n",
        "\n",
        "\n",
        "> 1-Jan-2010   100\n",
        "\n",
        "\n",
        "> 2-Jan-2010   200\n",
        "\n",
        "\n",
        "\n",
        "\n",
        "\n",
        "\n",
        "\n",
        "Moving average will be (200+100)/2 = 150\n",
        "\n",
        "We will take moving average for 3 days in our example.\n",
        "\n",
        "Note: You can create any number of such variables and any days."
      ]
    },
    {
      "cell_type": "code",
      "metadata": {
        "id": "EbdzMl4gL_5N"
      },
      "source": [
        "dataset=dataset.to_frame() #Convert the Series into a dataframe object\n",
        "dataset['Cases_MA2']=dataset.expanding(min_periods=3).mean()  #min_periods is used to set the no. of periods for calculating MA. Mean is for calculating average."
      ],
      "execution_count": null,
      "outputs": []
    },
    {
      "cell_type": "markdown",
      "metadata": {
        "id": "WIirZWKilJ2b"
      },
      "source": [
        "Create a new variable called Exponential Moving Average(EMA). EMA gives more weightage to the recent values rather than the old values. This could be handy in time series forecasting techniques.\n",
        "\n",
        "We will take exponential moving average for 3 days in our example.\n",
        "\n",
        "Note: You can create any number of such variables and any days."
      ]
    },
    {
      "cell_type": "code",
      "metadata": {
        "id": "Z3lJtf9bWRsM"
      },
      "source": [
        "dataset['EMA'] = dataset.iloc[:,0].ewm(span=3,adjust=False).mean() #ewm is used exponential moving average"
      ],
      "execution_count": null,
      "outputs": []
    },
    {
      "cell_type": "code",
      "metadata": {
        "id": "wf6gysbdWSan"
      },
      "source": [
        "dataset = dataset[dataset['Cases_MA2'].notna()] #Remove the rows that have NAs"
      ],
      "execution_count": null,
      "outputs": []
    },
    {
      "cell_type": "markdown",
      "metadata": {
        "id": "fjeZSygkmNZp"
      },
      "source": [
        "Let's look at the dataset"
      ]
    },
    {
      "cell_type": "code",
      "metadata": {
        "id": "GoqB0BfFe26l",
        "outputId": "170c2656-8b74-47e5-f10e-98960bd9b904",
        "colab": {
          "base_uri": "https://localhost:8080/",
          "height": 238
        }
      },
      "source": [
        "dataset.head()"
      ],
      "execution_count": null,
      "outputs": [
        {
          "output_type": "execute_result",
          "data": {
            "text/plain": [
              "            Cases  Cases_MA2      EMA\n",
              "Date                                 \n",
              "2020-02-01      2   1.333333  1.50000\n",
              "2020-02-02      3   1.750000  2.25000\n",
              "2020-02-03      3   2.000000  2.62500\n",
              "2020-02-04      3   2.166667  2.81250\n",
              "2020-02-05      3   2.285714  2.90625"
            ],
            "text/html": [
              "\n",
              "  <div id=\"df-dfc3b19f-332e-4e81-b1e5-788dc0f5d070\" class=\"colab-df-container\">\n",
              "    <div>\n",
              "<style scoped>\n",
              "    .dataframe tbody tr th:only-of-type {\n",
              "        vertical-align: middle;\n",
              "    }\n",
              "\n",
              "    .dataframe tbody tr th {\n",
              "        vertical-align: top;\n",
              "    }\n",
              "\n",
              "    .dataframe thead th {\n",
              "        text-align: right;\n",
              "    }\n",
              "</style>\n",
              "<table border=\"1\" class=\"dataframe\">\n",
              "  <thead>\n",
              "    <tr style=\"text-align: right;\">\n",
              "      <th></th>\n",
              "      <th>Cases</th>\n",
              "      <th>Cases_MA2</th>\n",
              "      <th>EMA</th>\n",
              "    </tr>\n",
              "    <tr>\n",
              "      <th>Date</th>\n",
              "      <th></th>\n",
              "      <th></th>\n",
              "      <th></th>\n",
              "    </tr>\n",
              "  </thead>\n",
              "  <tbody>\n",
              "    <tr>\n",
              "      <th>2020-02-01</th>\n",
              "      <td>2</td>\n",
              "      <td>1.333333</td>\n",
              "      <td>1.50000</td>\n",
              "    </tr>\n",
              "    <tr>\n",
              "      <th>2020-02-02</th>\n",
              "      <td>3</td>\n",
              "      <td>1.750000</td>\n",
              "      <td>2.25000</td>\n",
              "    </tr>\n",
              "    <tr>\n",
              "      <th>2020-02-03</th>\n",
              "      <td>3</td>\n",
              "      <td>2.000000</td>\n",
              "      <td>2.62500</td>\n",
              "    </tr>\n",
              "    <tr>\n",
              "      <th>2020-02-04</th>\n",
              "      <td>3</td>\n",
              "      <td>2.166667</td>\n",
              "      <td>2.81250</td>\n",
              "    </tr>\n",
              "    <tr>\n",
              "      <th>2020-02-05</th>\n",
              "      <td>3</td>\n",
              "      <td>2.285714</td>\n",
              "      <td>2.90625</td>\n",
              "    </tr>\n",
              "  </tbody>\n",
              "</table>\n",
              "</div>\n",
              "    <div class=\"colab-df-buttons\">\n",
              "\n",
              "  <div class=\"colab-df-container\">\n",
              "    <button class=\"colab-df-convert\" onclick=\"convertToInteractive('df-dfc3b19f-332e-4e81-b1e5-788dc0f5d070')\"\n",
              "            title=\"Convert this dataframe to an interactive table.\"\n",
              "            style=\"display:none;\">\n",
              "\n",
              "  <svg xmlns=\"http://www.w3.org/2000/svg\" height=\"24px\" viewBox=\"0 -960 960 960\">\n",
              "    <path d=\"M120-120v-720h720v720H120Zm60-500h600v-160H180v160Zm220 220h160v-160H400v160Zm0 220h160v-160H400v160ZM180-400h160v-160H180v160Zm440 0h160v-160H620v160ZM180-180h160v-160H180v160Zm440 0h160v-160H620v160Z\"/>\n",
              "  </svg>\n",
              "    </button>\n",
              "\n",
              "  <style>\n",
              "    .colab-df-container {\n",
              "      display:flex;\n",
              "      gap: 12px;\n",
              "    }\n",
              "\n",
              "    .colab-df-convert {\n",
              "      background-color: #E8F0FE;\n",
              "      border: none;\n",
              "      border-radius: 50%;\n",
              "      cursor: pointer;\n",
              "      display: none;\n",
              "      fill: #1967D2;\n",
              "      height: 32px;\n",
              "      padding: 0 0 0 0;\n",
              "      width: 32px;\n",
              "    }\n",
              "\n",
              "    .colab-df-convert:hover {\n",
              "      background-color: #E2EBFA;\n",
              "      box-shadow: 0px 1px 2px rgba(60, 64, 67, 0.3), 0px 1px 3px 1px rgba(60, 64, 67, 0.15);\n",
              "      fill: #174EA6;\n",
              "    }\n",
              "\n",
              "    .colab-df-buttons div {\n",
              "      margin-bottom: 4px;\n",
              "    }\n",
              "\n",
              "    [theme=dark] .colab-df-convert {\n",
              "      background-color: #3B4455;\n",
              "      fill: #D2E3FC;\n",
              "    }\n",
              "\n",
              "    [theme=dark] .colab-df-convert:hover {\n",
              "      background-color: #434B5C;\n",
              "      box-shadow: 0px 1px 3px 1px rgba(0, 0, 0, 0.15);\n",
              "      filter: drop-shadow(0px 1px 2px rgba(0, 0, 0, 0.3));\n",
              "      fill: #FFFFFF;\n",
              "    }\n",
              "  </style>\n",
              "\n",
              "    <script>\n",
              "      const buttonEl =\n",
              "        document.querySelector('#df-dfc3b19f-332e-4e81-b1e5-788dc0f5d070 button.colab-df-convert');\n",
              "      buttonEl.style.display =\n",
              "        google.colab.kernel.accessAllowed ? 'block' : 'none';\n",
              "\n",
              "      async function convertToInteractive(key) {\n",
              "        const element = document.querySelector('#df-dfc3b19f-332e-4e81-b1e5-788dc0f5d070');\n",
              "        const dataTable =\n",
              "          await google.colab.kernel.invokeFunction('convertToInteractive',\n",
              "                                                    [key], {});\n",
              "        if (!dataTable) return;\n",
              "\n",
              "        const docLinkHtml = 'Like what you see? Visit the ' +\n",
              "          '<a target=\"_blank\" href=https://colab.research.google.com/notebooks/data_table.ipynb>data table notebook</a>'\n",
              "          + ' to learn more about interactive tables.';\n",
              "        element.innerHTML = '';\n",
              "        dataTable['output_type'] = 'display_data';\n",
              "        await google.colab.output.renderOutput(dataTable, element);\n",
              "        const docLink = document.createElement('div');\n",
              "        docLink.innerHTML = docLinkHtml;\n",
              "        element.appendChild(docLink);\n",
              "      }\n",
              "    </script>\n",
              "  </div>\n",
              "\n",
              "\n",
              "<div id=\"df-e3c1576a-5d91-4e90-9529-9aef1d0c1b3c\">\n",
              "  <button class=\"colab-df-quickchart\" onclick=\"quickchart('df-e3c1576a-5d91-4e90-9529-9aef1d0c1b3c')\"\n",
              "            title=\"Suggest charts\"\n",
              "            style=\"display:none;\">\n",
              "\n",
              "<svg xmlns=\"http://www.w3.org/2000/svg\" height=\"24px\"viewBox=\"0 0 24 24\"\n",
              "     width=\"24px\">\n",
              "    <g>\n",
              "        <path d=\"M19 3H5c-1.1 0-2 .9-2 2v14c0 1.1.9 2 2 2h14c1.1 0 2-.9 2-2V5c0-1.1-.9-2-2-2zM9 17H7v-7h2v7zm4 0h-2V7h2v10zm4 0h-2v-4h2v4z\"/>\n",
              "    </g>\n",
              "</svg>\n",
              "  </button>\n",
              "\n",
              "<style>\n",
              "  .colab-df-quickchart {\n",
              "      --bg-color: #E8F0FE;\n",
              "      --fill-color: #1967D2;\n",
              "      --hover-bg-color: #E2EBFA;\n",
              "      --hover-fill-color: #174EA6;\n",
              "      --disabled-fill-color: #AAA;\n",
              "      --disabled-bg-color: #DDD;\n",
              "  }\n",
              "\n",
              "  [theme=dark] .colab-df-quickchart {\n",
              "      --bg-color: #3B4455;\n",
              "      --fill-color: #D2E3FC;\n",
              "      --hover-bg-color: #434B5C;\n",
              "      --hover-fill-color: #FFFFFF;\n",
              "      --disabled-bg-color: #3B4455;\n",
              "      --disabled-fill-color: #666;\n",
              "  }\n",
              "\n",
              "  .colab-df-quickchart {\n",
              "    background-color: var(--bg-color);\n",
              "    border: none;\n",
              "    border-radius: 50%;\n",
              "    cursor: pointer;\n",
              "    display: none;\n",
              "    fill: var(--fill-color);\n",
              "    height: 32px;\n",
              "    padding: 0;\n",
              "    width: 32px;\n",
              "  }\n",
              "\n",
              "  .colab-df-quickchart:hover {\n",
              "    background-color: var(--hover-bg-color);\n",
              "    box-shadow: 0 1px 2px rgba(60, 64, 67, 0.3), 0 1px 3px 1px rgba(60, 64, 67, 0.15);\n",
              "    fill: var(--button-hover-fill-color);\n",
              "  }\n",
              "\n",
              "  .colab-df-quickchart-complete:disabled,\n",
              "  .colab-df-quickchart-complete:disabled:hover {\n",
              "    background-color: var(--disabled-bg-color);\n",
              "    fill: var(--disabled-fill-color);\n",
              "    box-shadow: none;\n",
              "  }\n",
              "\n",
              "  .colab-df-spinner {\n",
              "    border: 2px solid var(--fill-color);\n",
              "    border-color: transparent;\n",
              "    border-bottom-color: var(--fill-color);\n",
              "    animation:\n",
              "      spin 1s steps(1) infinite;\n",
              "  }\n",
              "\n",
              "  @keyframes spin {\n",
              "    0% {\n",
              "      border-color: transparent;\n",
              "      border-bottom-color: var(--fill-color);\n",
              "      border-left-color: var(--fill-color);\n",
              "    }\n",
              "    20% {\n",
              "      border-color: transparent;\n",
              "      border-left-color: var(--fill-color);\n",
              "      border-top-color: var(--fill-color);\n",
              "    }\n",
              "    30% {\n",
              "      border-color: transparent;\n",
              "      border-left-color: var(--fill-color);\n",
              "      border-top-color: var(--fill-color);\n",
              "      border-right-color: var(--fill-color);\n",
              "    }\n",
              "    40% {\n",
              "      border-color: transparent;\n",
              "      border-right-color: var(--fill-color);\n",
              "      border-top-color: var(--fill-color);\n",
              "    }\n",
              "    60% {\n",
              "      border-color: transparent;\n",
              "      border-right-color: var(--fill-color);\n",
              "    }\n",
              "    80% {\n",
              "      border-color: transparent;\n",
              "      border-right-color: var(--fill-color);\n",
              "      border-bottom-color: var(--fill-color);\n",
              "    }\n",
              "    90% {\n",
              "      border-color: transparent;\n",
              "      border-bottom-color: var(--fill-color);\n",
              "    }\n",
              "  }\n",
              "</style>\n",
              "\n",
              "  <script>\n",
              "    async function quickchart(key) {\n",
              "      const quickchartButtonEl =\n",
              "        document.querySelector('#' + key + ' button');\n",
              "      quickchartButtonEl.disabled = true;  // To prevent multiple clicks.\n",
              "      quickchartButtonEl.classList.add('colab-df-spinner');\n",
              "      try {\n",
              "        const charts = await google.colab.kernel.invokeFunction(\n",
              "            'suggestCharts', [key], {});\n",
              "      } catch (error) {\n",
              "        console.error('Error during call to suggestCharts:', error);\n",
              "      }\n",
              "      quickchartButtonEl.classList.remove('colab-df-spinner');\n",
              "      quickchartButtonEl.classList.add('colab-df-quickchart-complete');\n",
              "    }\n",
              "    (() => {\n",
              "      let quickchartButtonEl =\n",
              "        document.querySelector('#df-e3c1576a-5d91-4e90-9529-9aef1d0c1b3c button');\n",
              "      quickchartButtonEl.style.display =\n",
              "        google.colab.kernel.accessAllowed ? 'block' : 'none';\n",
              "    })();\n",
              "  </script>\n",
              "</div>\n",
              "\n",
              "    </div>\n",
              "  </div>\n"
            ],
            "application/vnd.google.colaboratory.intrinsic+json": {
              "type": "dataframe",
              "variable_name": "dataset",
              "summary": "{\n  \"name\": \"dataset\",\n  \"rows\": 4690,\n  \"fields\": [\n    {\n      \"column\": \"Date\",\n      \"properties\": {\n        \"dtype\": \"object\",\n        \"num_unique_values\": 184,\n        \"samples\": [\n          \"2020-02-20\",\n          \"2020-03-14\",\n          \"2020-07-10\"\n        ],\n        \"semantic_type\": \"\",\n        \"description\": \"\"\n      }\n    },\n    {\n      \"column\": \"Cases\",\n      \"properties\": {\n        \"dtype\": \"number\",\n        \"std\": 37215,\n        \"min\": 1,\n        \"max\": 468265,\n        \"num_unique_values\": 2570,\n        \"samples\": [\n          860,\n          6485,\n          5579\n        ],\n        \"semantic_type\": \"\",\n        \"description\": \"\"\n      }\n    },\n    {\n      \"column\": \"Cases_MA2\",\n      \"properties\": {\n        \"dtype\": \"number\",\n        \"std\": 2986.452112011744,\n        \"min\": 1.3333333333333333,\n        \"max\": 11393.925191815857,\n        \"num_unique_values\": 4689,\n        \"samples\": [\n          341.9594594594595,\n          8807.220708446866,\n          1959.536842105263\n        ],\n        \"semantic_type\": \"\",\n        \"description\": \"\"\n      }\n    },\n    {\n      \"column\": \"EMA\",\n      \"properties\": {\n        \"dtype\": \"number\",\n        \"std\": 22883.694717936825,\n        \"min\": 1.1098457518020606,\n        \"max\": 250423.96341247877,\n        \"num_unique_values\": 4690,\n        \"samples\": [\n          1643.1566937822647,\n          12053.918376132953,\n          2662.7611536869745\n        ],\n        \"semantic_type\": \"\",\n        \"description\": \"\"\n      }\n    }\n  ]\n}"
            }
          },
          "metadata": {},
          "execution_count": 53
        }
      ]
    },
    {
      "cell_type": "markdown",
      "metadata": {
        "id": "EIMN7E2PsX2_"
      },
      "source": [
        "Here we will be predicting the column 'Cases'. Hence the target variable will be 'Cases'"
      ]
    },
    {
      "cell_type": "code",
      "metadata": {
        "id": "cQ_gtFHNyUZT"
      },
      "source": [
        "#Cases is the column we have to predict.\n",
        "target=dataset[['Cases']]\n",
        "del dataset['Cases']"
      ],
      "execution_count": null,
      "outputs": []
    },
    {
      "cell_type": "markdown",
      "metadata": {
        "id": "AQK7tbKRwj-b"
      },
      "source": [
        "Adjust the shapes of predictor and target sets. For this, we remove the last row of both the datasets."
      ]
    },
    {
      "cell_type": "code",
      "metadata": {
        "id": "-13AY5Ig45lk"
      },
      "source": [
        "#dataset.drop(dataset.index[len(dataset)-1], axis=0, inplace=True) #Drop the last row in dataset\n",
        "#target.drop(target.index[len(target)-1], axis=0, inplace=True) #Drop the last row in target"
      ],
      "execution_count": null,
      "outputs": []
    },
    {
      "cell_type": "markdown",
      "metadata": {
        "id": "YgT5js03xHYP"
      },
      "source": [
        "Convert both dataset and target into numpy arrays.\n",
        "\n",
        "\n",
        "*   x -> dataset with predictor variables\n",
        "*   y -> dataset with target variable\n",
        "\n",
        "\n"
      ]
    },
    {
      "cell_type": "code",
      "source": [
        "x.shape"
      ],
      "metadata": {
        "colab": {
          "base_uri": "https://localhost:8080/"
        },
        "id": "eP-V8bjDyLhz",
        "outputId": "ed985f2b-815d-4614-d4db-58693553ba59"
      },
      "execution_count": null,
      "outputs": [
        {
          "output_type": "execute_result",
          "data": {
            "text/plain": [
              "(4690, 2)"
            ]
          },
          "metadata": {},
          "execution_count": 69
        }
      ]
    },
    {
      "cell_type": "code",
      "source": [
        "y.shape"
      ],
      "metadata": {
        "colab": {
          "base_uri": "https://localhost:8080/"
        },
        "id": "cS4ERb99yPpR",
        "outputId": "293768a0-565c-4855-ad13-b240b628e330"
      },
      "execution_count": null,
      "outputs": [
        {
          "output_type": "execute_result",
          "data": {
            "text/plain": [
              "(4690, 1)"
            ]
          },
          "metadata": {},
          "execution_count": 70
        }
      ]
    },
    {
      "cell_type": "code",
      "metadata": {
        "id": "bvamkbLRyoo5"
      },
      "source": [
        "x, y = dataset.values, target.values"
      ],
      "execution_count": null,
      "outputs": []
    },
    {
      "cell_type": "markdown",
      "metadata": {
        "id": "qS2E3yDixWeW"
      },
      "source": [
        "We now scale the values for the model."
      ]
    },
    {
      "cell_type": "code",
      "metadata": {
        "id": "PJLucXSoy8XT"
      },
      "source": [
        "x_scaled_set = MinMaxScaler() #Use MinMaxScaler function from sklearn.preprocessing library\n",
        "y_scaled_set = MinMaxScaler()\n",
        "\n",
        "X = x_scaled_set.fit_transform(x) #Fit to data and transform the data array x\n",
        "Y = y_scaled_set.fit_transform(y.reshape(-1,1)) #Fit to data and transform the data array y. Reshape the y variable to long format"
      ],
      "execution_count": null,
      "outputs": []
    },
    {
      "cell_type": "code",
      "source": [
        "x.shape"
      ],
      "metadata": {
        "colab": {
          "base_uri": "https://localhost:8080/"
        },
        "id": "mcsM7CXXwEnw",
        "outputId": "482ebb0c-956e-4433-ea4b-2805642cb298"
      },
      "execution_count": null,
      "outputs": [
        {
          "output_type": "execute_result",
          "data": {
            "text/plain": [
              "(4690, 2)"
            ]
          },
          "metadata": {},
          "execution_count": 60
        }
      ]
    },
    {
      "cell_type": "code",
      "metadata": {
        "id": "N35kEGyr143x"
      },
      "source": [
        "X_train_data=X[0:4000,]\n",
        "y_train_data=Y[0:4000,]\n",
        "X_test_data=X[4000:4690,]\n",
        "y_test_data=Y[4000:4690,]"
      ],
      "execution_count": null,
      "outputs": []
    },
    {
      "cell_type": "code",
      "source": [
        "X_train_data.shape"
      ],
      "metadata": {
        "colab": {
          "base_uri": "https://localhost:8080/"
        },
        "id": "2peYisLxxdmF",
        "outputId": "92756e92-b18d-4973-f2fc-9a6199a1ce95"
      },
      "execution_count": null,
      "outputs": [
        {
          "output_type": "execute_result",
          "data": {
            "text/plain": [
              "(4000, 1, 2)"
            ]
          },
          "metadata": {},
          "execution_count": 67
        }
      ]
    },
    {
      "cell_type": "code",
      "source": [
        "y_test_data.shape"
      ],
      "metadata": {
        "colab": {
          "base_uri": "https://localhost:8080/"
        },
        "id": "deqkAe80xjvM",
        "outputId": "17b35925-d1ff-4c67-8cdd-342a2980b169"
      },
      "execution_count": null,
      "outputs": [
        {
          "output_type": "execute_result",
          "data": {
            "text/plain": [
              "(690, 1)"
            ]
          },
          "metadata": {},
          "execution_count": 68
        }
      ]
    },
    {
      "cell_type": "code",
      "metadata": {
        "id": "j__I7eximeXd"
      },
      "source": [
        "X_train_data = X_train_data.reshape((-1,1,2)) #Reshape train dataset to required format\n",
        "X_test_data = X_test_data.reshape((-1,1,2)) #Reshape test dataset to required format"
      ],
      "execution_count": null,
      "outputs": []
    },
    {
      "cell_type": "markdown",
      "metadata": {
        "id": "mmnPYBJq08np"
      },
      "source": [
        "## 4. Build Model using RNN & Grated Recurrent Unit (GRU)\n",
        "\n",
        "We will use the Sequential class from keras.models library to define a linear stack of network layers. These form a model.\n",
        "\n",
        "Using the add method, the necessary layers would be added to the model.\n",
        "\n",
        "RNNs have an issue of short-term memory which means if the sequence is long, they tend to leave leave out the earlier ones and only retain information related to the later ones. To remove this problem, GRUs are used. In a way, GRU helps in keeping only the important information in the whole sequence. Initially, we add the GRU layer with necessary parameters.\n",
        "\n",
        "Then, we add a Dropout layer to prevent overfitting of the model.\n",
        "\n",
        "We add another set of GRU and Dropout layers.\n",
        "\n",
        "Post which we add a Dense layer which gives us the fully connected layer. We use the regular sigmoid activation function.\n",
        "\n",
        "In our model, we will use Adam optimizer and consider mean square error as our loss function since ours is a Regression model."
      ]
    },
    {
      "cell_type": "code",
      "metadata": {
        "id": "8ps_hdPIzkee"
      },
      "source": [
        "GRU_model = Sequential() #Use Sequential function from keras.model library\n",
        "GRU_model.add(GRU(units=512,\n",
        "              return_sequences=True,\n",
        "              input_shape=(1, 2))) #Add GRU model with 512 units. Note that return sequences should be true to pass on the sequences. Ensure that input_shape is inline with the inout data.\n",
        "GRU_model.add(Dropout(0.2)) #Add a dropout layer to avoid overfitting.\n",
        "GRU_model.add(GRU(units=256)) #Add another GRU layer with 256 units.\n",
        "GRU_model.add(Dropout(0.2)) #Add another dropout layer to avoid overfitting.\n",
        "GRU_model.add(Dense(1, activation='sigmoid')) #Finally, add a dense layer for getting a fully connected layer.\n"
      ],
      "execution_count": null,
      "outputs": []
    },
    {
      "cell_type": "code",
      "source": [
        "GRU_model.compile(loss='mse', optimizer='adam', metrics = ['accuracy']) #mse is mean square error which is the loss function and Adam optimizer will be the ooptimizer."
      ],
      "metadata": {
        "colab": {
          "base_uri": "https://localhost:8080/",
          "height": 141
        },
        "id": "z41QKAv8zCF4",
        "outputId": "6b5f6cb1-3b4d-443e-8371-acea8f5f89cc"
      },
      "execution_count": null,
      "outputs": [
        {
          "output_type": "error",
          "ename": "NameError",
          "evalue": "name 'GRU_model' is not defined",
          "traceback": [
            "\u001b[0;31m---------------------------------------------------------------------------\u001b[0m",
            "\u001b[0;31mNameError\u001b[0m                                 Traceback (most recent call last)",
            "\u001b[0;32m<ipython-input-1-38b8638154ed>\u001b[0m in \u001b[0;36m<cell line: 1>\u001b[0;34m()\u001b[0m\n\u001b[0;32m----> 1\u001b[0;31m \u001b[0mGRU_model\u001b[0m\u001b[0;34m.\u001b[0m\u001b[0mcompile\u001b[0m\u001b[0;34m(\u001b[0m\u001b[0mloss\u001b[0m\u001b[0;34m=\u001b[0m\u001b[0;34m'mse'\u001b[0m\u001b[0;34m,\u001b[0m \u001b[0moptimizer\u001b[0m\u001b[0;34m=\u001b[0m\u001b[0;34m'adam'\u001b[0m\u001b[0;34m,\u001b[0m \u001b[0mmetrics\u001b[0m \u001b[0;34m=\u001b[0m \u001b[0;34m[\u001b[0m\u001b[0;34m'accuracy'\u001b[0m\u001b[0;34m]\u001b[0m\u001b[0;34m)\u001b[0m \u001b[0;31m#mse is mean square error which is the loss function and Adam optimizer will be the ooptimizer.\u001b[0m\u001b[0;34m\u001b[0m\u001b[0;34m\u001b[0m\u001b[0m\n\u001b[0m",
            "\u001b[0;31mNameError\u001b[0m: name 'GRU_model' is not defined"
          ]
        }
      ]
    },
    {
      "cell_type": "markdown",
      "metadata": {
        "id": "MwrxiDXw-Sjz"
      },
      "source": [
        "## 5. Training the Dataset\n",
        "\n",
        "Fit the model by passing the training data we created earlier along with relevant batch size, epochs, validation split.\n",
        "\n",
        "Batch Size - The batch size controls the number of training samples before the model's internal parameters are updated\n",
        "\n",
        "Epochs - How many times the whole training dataset be passed through the network.\n"
      ]
    },
    {
      "cell_type": "code",
      "metadata": {
        "id": "ju-M7vNb5-mj",
        "outputId": "bc42f524-1fa7-484a-dff1-9ffaf5cca296",
        "colab": {
          "base_uri": "https://localhost:8080/"
        }
      },
      "source": [
        "GRU_model.fit(X_train_data,y_train_data,batch_size=250, epochs=100, validation_split=0.15, verbose=1)\n",
        "#GRU_model.save(\"covid_GRU.h5\") #Save the model if you want for reuse."
      ],
      "execution_count": null,
      "outputs": [
        {
          "output_type": "stream",
          "name": "stdout",
          "text": [
            "Epoch 1/100\n",
            "14/14 [==============================] - 1s 71ms/step - loss: 6.4835e-04 - val_loss: 0.0105\n",
            "Epoch 2/100\n",
            "14/14 [==============================] - 1s 67ms/step - loss: 6.2214e-04 - val_loss: 0.0066\n",
            "Epoch 3/100\n",
            "14/14 [==============================] - 1s 65ms/step - loss: 3.6634e-04 - val_loss: 0.0534\n",
            "Epoch 4/100\n",
            "14/14 [==============================] - 1s 94ms/step - loss: 3.1684e-04 - val_loss: 0.0214\n",
            "Epoch 5/100\n",
            "14/14 [==============================] - 1s 66ms/step - loss: 2.7620e-04 - val_loss: 0.0177\n",
            "Epoch 6/100\n",
            "14/14 [==============================] - 1s 66ms/step - loss: 2.7034e-04 - val_loss: 0.0294\n",
            "Epoch 7/100\n",
            "14/14 [==============================] - 1s 83ms/step - loss: 2.4791e-04 - val_loss: 0.0141\n",
            "Epoch 8/100\n",
            "14/14 [==============================] - 2s 110ms/step - loss: 2.3390e-04 - val_loss: 0.0207\n",
            "Epoch 9/100\n",
            "14/14 [==============================] - 1s 69ms/step - loss: 2.3384e-04 - val_loss: 0.0190\n",
            "Epoch 10/100\n",
            "14/14 [==============================] - 1s 68ms/step - loss: 2.2354e-04 - val_loss: 0.0208\n",
            "Epoch 11/100\n",
            "14/14 [==============================] - 1s 64ms/step - loss: 2.2856e-04 - val_loss: 0.0151\n",
            "Epoch 12/100\n",
            "14/14 [==============================] - 1s 65ms/step - loss: 2.2630e-04 - val_loss: 0.0179\n",
            "Epoch 13/100\n",
            "14/14 [==============================] - 1s 66ms/step - loss: 2.2721e-04 - val_loss: 0.0142\n",
            "Epoch 14/100\n",
            "14/14 [==============================] - 1s 63ms/step - loss: 2.2154e-04 - val_loss: 0.0165\n",
            "Epoch 15/100\n",
            "14/14 [==============================] - 1s 66ms/step - loss: 2.1409e-04 - val_loss: 0.0162\n",
            "Epoch 16/100\n",
            "14/14 [==============================] - 1s 66ms/step - loss: 2.2307e-04 - val_loss: 0.0153\n",
            "Epoch 17/100\n",
            "14/14 [==============================] - 1s 67ms/step - loss: 2.1719e-04 - val_loss: 0.0108\n",
            "Epoch 18/100\n",
            "14/14 [==============================] - 1s 65ms/step - loss: 2.1368e-04 - val_loss: 0.0134\n",
            "Epoch 19/100\n",
            "14/14 [==============================] - 1s 63ms/step - loss: 2.0691e-04 - val_loss: 0.0125\n",
            "Epoch 20/100\n",
            "14/14 [==============================] - 1s 96ms/step - loss: 2.0706e-04 - val_loss: 0.0120\n",
            "Epoch 21/100\n",
            "14/14 [==============================] - 2s 157ms/step - loss: 2.0825e-04 - val_loss: 0.0125\n",
            "Epoch 22/100\n",
            "14/14 [==============================] - 1s 65ms/step - loss: 2.0574e-04 - val_loss: 0.0122\n",
            "Epoch 23/100\n",
            "14/14 [==============================] - 1s 66ms/step - loss: 2.1289e-04 - val_loss: 0.0097\n",
            "Epoch 24/100\n",
            "14/14 [==============================] - 1s 64ms/step - loss: 2.0780e-04 - val_loss: 0.0100\n",
            "Epoch 25/100\n",
            "14/14 [==============================] - 1s 66ms/step - loss: 2.0575e-04 - val_loss: 0.0108\n",
            "Epoch 26/100\n",
            "14/14 [==============================] - 1s 65ms/step - loss: 2.0522e-04 - val_loss: 0.0101\n",
            "Epoch 27/100\n",
            "14/14 [==============================] - 1s 65ms/step - loss: 2.1002e-04 - val_loss: 0.0106\n",
            "Epoch 28/100\n",
            "14/14 [==============================] - 1s 64ms/step - loss: 2.0161e-04 - val_loss: 0.0092\n",
            "Epoch 29/100\n",
            "14/14 [==============================] - 1s 64ms/step - loss: 1.9809e-04 - val_loss: 0.0100\n",
            "Epoch 30/100\n",
            "14/14 [==============================] - 1s 66ms/step - loss: 2.0934e-04 - val_loss: 0.0103\n",
            "Epoch 31/100\n",
            "14/14 [==============================] - 1s 65ms/step - loss: 2.0429e-04 - val_loss: 0.0084\n",
            "Epoch 32/100\n",
            "14/14 [==============================] - 1s 92ms/step - loss: 2.0477e-04 - val_loss: 0.0092\n",
            "Epoch 33/100\n",
            "14/14 [==============================] - 1s 106ms/step - loss: 2.0420e-04 - val_loss: 0.0077\n",
            "Epoch 34/100\n",
            "14/14 [==============================] - 1s 66ms/step - loss: 2.0025e-04 - val_loss: 0.0086\n",
            "Epoch 35/100\n",
            "14/14 [==============================] - 1s 64ms/step - loss: 1.9804e-04 - val_loss: 0.0087\n",
            "Epoch 36/100\n",
            "14/14 [==============================] - 1s 64ms/step - loss: 1.9909e-04 - val_loss: 0.0082\n",
            "Epoch 37/100\n",
            "14/14 [==============================] - 1s 66ms/step - loss: 2.0048e-04 - val_loss: 0.0083\n",
            "Epoch 38/100\n",
            "14/14 [==============================] - 1s 66ms/step - loss: 1.9887e-04 - val_loss: 0.0076\n",
            "Epoch 39/100\n",
            "14/14 [==============================] - 1s 66ms/step - loss: 1.9653e-04 - val_loss: 0.0078\n",
            "Epoch 40/100\n",
            "14/14 [==============================] - 1s 68ms/step - loss: 1.9664e-04 - val_loss: 0.0086\n",
            "Epoch 41/100\n",
            "14/14 [==============================] - 1s 66ms/step - loss: 1.9711e-04 - val_loss: 0.0073\n",
            "Epoch 42/100\n",
            "14/14 [==============================] - 1s 65ms/step - loss: 2.0047e-04 - val_loss: 0.0078\n",
            "Epoch 43/100\n",
            "14/14 [==============================] - 1s 64ms/step - loss: 1.9604e-04 - val_loss: 0.0076\n",
            "Epoch 44/100\n",
            "14/14 [==============================] - 1s 63ms/step - loss: 1.9966e-04 - val_loss: 0.0068\n",
            "Epoch 45/100\n",
            "14/14 [==============================] - 1s 104ms/step - loss: 1.9467e-04 - val_loss: 0.0073\n",
            "Epoch 46/100\n",
            "14/14 [==============================] - 1s 95ms/step - loss: 1.9610e-04 - val_loss: 0.0076\n",
            "Epoch 47/100\n",
            "14/14 [==============================] - 1s 65ms/step - loss: 1.9778e-04 - val_loss: 0.0066\n",
            "Epoch 48/100\n",
            "14/14 [==============================] - 1s 65ms/step - loss: 2.0078e-04 - val_loss: 0.0070\n",
            "Epoch 49/100\n",
            "14/14 [==============================] - 1s 65ms/step - loss: 1.9444e-04 - val_loss: 0.0080\n",
            "Epoch 50/100\n",
            "14/14 [==============================] - 1s 63ms/step - loss: 1.9038e-04 - val_loss: 0.0069\n",
            "Epoch 51/100\n",
            "14/14 [==============================] - 1s 63ms/step - loss: 1.9494e-04 - val_loss: 0.0064\n",
            "Epoch 52/100\n",
            "14/14 [==============================] - 1s 64ms/step - loss: 1.9287e-04 - val_loss: 0.0074\n",
            "Epoch 53/100\n",
            "14/14 [==============================] - 1s 64ms/step - loss: 1.9065e-04 - val_loss: 0.0066\n",
            "Epoch 54/100\n",
            "14/14 [==============================] - 1s 65ms/step - loss: 1.9531e-04 - val_loss: 0.0062\n",
            "Epoch 55/100\n",
            "14/14 [==============================] - 1s 65ms/step - loss: 1.9399e-04 - val_loss: 0.0066\n",
            "Epoch 56/100\n",
            "14/14 [==============================] - 1s 65ms/step - loss: 1.9072e-04 - val_loss: 0.0072\n",
            "Epoch 57/100\n",
            "14/14 [==============================] - 2s 125ms/step - loss: 1.9414e-04 - val_loss: 0.0069\n",
            "Epoch 58/100\n",
            "14/14 [==============================] - 1s 103ms/step - loss: 1.9169e-04 - val_loss: 0.0062\n",
            "Epoch 59/100\n",
            "14/14 [==============================] - 1s 66ms/step - loss: 1.9275e-04 - val_loss: 0.0059\n",
            "Epoch 60/100\n",
            "14/14 [==============================] - 1s 65ms/step - loss: 1.9300e-04 - val_loss: 0.0064\n",
            "Epoch 61/100\n",
            "14/14 [==============================] - 1s 65ms/step - loss: 1.9365e-04 - val_loss: 0.0064\n",
            "Epoch 62/100\n",
            "14/14 [==============================] - 1s 66ms/step - loss: 1.9034e-04 - val_loss: 0.0064\n",
            "Epoch 63/100\n",
            "14/14 [==============================] - 1s 64ms/step - loss: 1.8987e-04 - val_loss: 0.0064\n",
            "Epoch 64/100\n",
            "14/14 [==============================] - 1s 65ms/step - loss: 1.8949e-04 - val_loss: 0.0064\n",
            "Epoch 65/100\n",
            "14/14 [==============================] - 1s 65ms/step - loss: 1.9052e-04 - val_loss: 0.0061\n",
            "Epoch 66/100\n",
            "14/14 [==============================] - 1s 65ms/step - loss: 1.8964e-04 - val_loss: 0.0061\n",
            "Epoch 67/100\n",
            "14/14 [==============================] - 1s 66ms/step - loss: 1.8916e-04 - val_loss: 0.0063\n",
            "Epoch 68/100\n",
            "14/14 [==============================] - 1s 65ms/step - loss: 1.8980e-04 - val_loss: 0.0060\n",
            "Epoch 69/100\n",
            "14/14 [==============================] - 1s 67ms/step - loss: 1.8746e-04 - val_loss: 0.0061\n",
            "Epoch 70/100\n",
            "14/14 [==============================] - 1s 102ms/step - loss: 1.9223e-04 - val_loss: 0.0064\n",
            "Epoch 71/100\n",
            "14/14 [==============================] - 1s 93ms/step - loss: 1.8681e-04 - val_loss: 0.0057\n",
            "Epoch 72/100\n",
            "14/14 [==============================] - 1s 66ms/step - loss: 1.9468e-04 - val_loss: 0.0056\n",
            "Epoch 73/100\n",
            "14/14 [==============================] - 1s 66ms/step - loss: 1.8367e-04 - val_loss: 0.0061\n",
            "Epoch 74/100\n",
            "14/14 [==============================] - 1s 66ms/step - loss: 1.8517e-04 - val_loss: 0.0066\n",
            "Epoch 75/100\n",
            "14/14 [==============================] - 1s 65ms/step - loss: 1.9392e-04 - val_loss: 0.0051\n",
            "Epoch 76/100\n",
            "14/14 [==============================] - 1s 64ms/step - loss: 1.9033e-04 - val_loss: 0.0057\n",
            "Epoch 77/100\n",
            "14/14 [==============================] - 1s 64ms/step - loss: 1.9281e-04 - val_loss: 0.0063\n",
            "Epoch 78/100\n",
            "14/14 [==============================] - 1s 64ms/step - loss: 1.9467e-04 - val_loss: 0.0052\n",
            "Epoch 79/100\n",
            "14/14 [==============================] - 1s 64ms/step - loss: 1.8648e-04 - val_loss: 0.0054\n",
            "Epoch 80/100\n",
            "14/14 [==============================] - 1s 67ms/step - loss: 1.8490e-04 - val_loss: 0.0062\n",
            "Epoch 81/100\n",
            "14/14 [==============================] - 1s 66ms/step - loss: 1.9165e-04 - val_loss: 0.0055\n",
            "Epoch 82/100\n",
            "14/14 [==============================] - 1s 84ms/step - loss: 1.8483e-04 - val_loss: 0.0056\n",
            "Epoch 83/100\n",
            "14/14 [==============================] - 1s 104ms/step - loss: 1.8037e-04 - val_loss: 0.0059\n",
            "Epoch 84/100\n",
            "14/14 [==============================] - 1s 76ms/step - loss: 1.8478e-04 - val_loss: 0.0055\n",
            "Epoch 85/100\n",
            "14/14 [==============================] - 1s 63ms/step - loss: 1.8828e-04 - val_loss: 0.0058\n",
            "Epoch 86/100\n",
            "14/14 [==============================] - 1s 63ms/step - loss: 1.8685e-04 - val_loss: 0.0057\n",
            "Epoch 87/100\n",
            "14/14 [==============================] - 1s 64ms/step - loss: 1.8831e-04 - val_loss: 0.0053\n",
            "Epoch 88/100\n",
            "14/14 [==============================] - 1s 64ms/step - loss: 1.8620e-04 - val_loss: 0.0053\n",
            "Epoch 89/100\n",
            "14/14 [==============================] - 1s 64ms/step - loss: 1.8269e-04 - val_loss: 0.0056\n",
            "Epoch 90/100\n",
            "14/14 [==============================] - 1s 65ms/step - loss: 1.8080e-04 - val_loss: 0.0058\n",
            "Epoch 91/100\n",
            "14/14 [==============================] - 1s 66ms/step - loss: 1.8694e-04 - val_loss: 0.0053\n",
            "Epoch 92/100\n",
            "14/14 [==============================] - 1s 65ms/step - loss: 1.8215e-04 - val_loss: 0.0052\n",
            "Epoch 93/100\n",
            "14/14 [==============================] - 1s 64ms/step - loss: 1.7673e-04 - val_loss: 0.0060\n",
            "Epoch 94/100\n",
            "14/14 [==============================] - 1s 64ms/step - loss: 1.8208e-04 - val_loss: 0.0054\n",
            "Epoch 95/100\n",
            "14/14 [==============================] - 1s 86ms/step - loss: 1.8121e-04 - val_loss: 0.0052\n",
            "Epoch 96/100\n",
            "14/14 [==============================] - 1s 103ms/step - loss: 1.8910e-04 - val_loss: 0.0053\n",
            "Epoch 97/100\n",
            "14/14 [==============================] - 1s 70ms/step - loss: 1.8370e-04 - val_loss: 0.0054\n",
            "Epoch 98/100\n",
            "14/14 [==============================] - 1s 64ms/step - loss: 1.8750e-04 - val_loss: 0.0047\n",
            "Epoch 99/100\n",
            "14/14 [==============================] - 1s 64ms/step - loss: 1.8583e-04 - val_loss: 0.0057\n",
            "Epoch 100/100\n",
            "14/14 [==============================] - 1s 65ms/step - loss: 1.8611e-04 - val_loss: 0.0049\n"
          ]
        },
        {
          "output_type": "execute_result",
          "data": {
            "text/plain": [
              "<keras.src.callbacks.History at 0x7dfc2d5c3790>"
            ]
          },
          "metadata": {},
          "execution_count": 63
        }
      ]
    },
    {
      "cell_type": "markdown",
      "metadata": {
        "id": "UFp5UUl6_iJ1"
      },
      "source": [
        "## 6. Predict\n",
        "\n",
        "Use evaluate function to get the loss metric. Apply the created model on test dataset.\n",
        "\n",
        "Plot the predicted and actual values on a graph.\n",
        "\n",
        "The lower the 'score' metric (ie mean square error), better is our model."
      ]
    },
    {
      "cell_type": "code",
      "metadata": {
        "id": "YE3X6YY1DrE3",
        "outputId": "dc7e66f3-9ad6-4de2-d3f1-c4b706c18f69",
        "colab": {
          "base_uri": "https://localhost:8080/"
        }
      },
      "source": [
        "score = GRU_model.evaluate(X_test_data, y_test_data) #Evaluate model can be used to get the loss metric.\n",
        "print('Score: {}'.format(score))\n",
        "y_pred = GRU_model.predict(X_test_data) #Apply the built model on test data.\n",
        "y_test_pred = y_scaled_set.inverse_transform(y_pred) #Use inverse transform to undo the scaling that was done before. This gives us the original values.\n",
        "y_test_actual = y_scaled_set.inverse_transform(y_test_data) # Apply the inverse transform on the actual dataset for easy comparison of predicted vs actual.\n",
        "#plt.plot(y_test_pred[-100:], label='Predicted') #Plot the predicted vs actual graph\n",
        "#plt.plot(y_test_actual[-100:], label='Actual')\n",
        "#plt.legend()\n",
        "#plt.show()"
      ],
      "execution_count": null,
      "outputs": [
        {
          "output_type": "stream",
          "name": "stdout",
          "text": [
            "22/22 [==============================] - 0s 8ms/step - loss: 0.0264\n",
            "Score: 0.026440894231200218\n",
            "22/22 [==============================] - 0s 9ms/step\n"
          ]
        }
      ]
    },
    {
      "cell_type": "code",
      "metadata": {
        "id": "UvDPH7PFCzRo"
      },
      "source": [
        "test_Dates=main_dataset.Date[4000:4690] #create an object which has the dates for the Test data."
      ],
      "execution_count": null,
      "outputs": []
    },
    {
      "cell_type": "code",
      "source": [
        "\n",
        "\n",
        "# Define the figure size\n",
        "fig_size = (40, 6)  # Adjust width and height as needed\n",
        "\n",
        "# Create a new figure with the specified size\n",
        "plt.figure(figsize=fig_size)\n",
        "\n",
        "# Assuming test_Dates, y_test_actual, and y_test_pred are already defined\n",
        "\n",
        "# Plot actual and predicted data\n",
        "plt.plot(test_Dates, y_test_actual[-690:], label='Actual')\n",
        "plt.plot(test_Dates, y_test_pred[-690:], label='Predicted')\n",
        "\n",
        "# Add legend\n",
        "plt.legend()\n",
        "\n",
        "# Show the plot\n",
        "plt.show()\n"
      ],
      "metadata": {
        "colab": {
          "base_uri": "https://localhost:8080/",
          "height": 542
        },
        "id": "TNgAlneA2nbS",
        "outputId": "e846da4e-2992-4c82-d539-571dcf6af237"
      },
      "execution_count": null,
      "outputs": [
        {
          "output_type": "display_data",
          "data": {
            "text/plain": [
              "<Figure size 4000x600 with 1 Axes>"
            ],
            "image/png": "[encoded data removed]"
          },
          "metadata": {}
        }
      ]
    },
    {
      "cell_type": "markdown",
      "metadata": {
        "id": "hdnZi07zBJOW"
      },
      "source": [
        "\n",
        "\n",
        "The mean square error (metric) is nearing zero. Analyzing the above graph, we see that our model was closely predicting for the 1st day. Though there are dip in cases after 20th April, our model predicted around 1600 cases. The cases saw a sudden spike which our model was able to predict very closely and maintained the trend till 27-April."
      ]
    },
    {
      "cell_type": "code",
      "source": [],
      "metadata": {
        "id": "ALlrGLJm5j20"
      },
      "execution_count": null,
      "outputs": []
    }
  ]
}